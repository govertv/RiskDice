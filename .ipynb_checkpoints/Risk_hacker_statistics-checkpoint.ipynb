{
 "cells": [
  {
   "cell_type": "markdown",
   "metadata": {},
   "source": [
    "Risk dice strategy with hacker statistics \n",
    "by Govert Verberg\n",
    "\n",
    "\n",
    "In the board game Risk, battled between players are simulated using dice. The most common situation is that the attacker throws with three dice, and the defender with one or two dice. The official rules can be found online. A common house rule is that the defender can choose to throw 1 or 2 dice, after the attacker throws his dice, instead of in advance. This gives the defender some extra advantage, assuming he chooses wisely. In this notebook I will calculate what the optimal strategy is for the defender in the general case, when both the attacker and the defender have a lot of armies."
   ]
  },
  {
   "cell_type": "code",
   "execution_count": 1,
   "metadata": {},
   "outputs": [
    {
     "name": "stdout",
     "output_type": "stream",
     "text": [
      "[[1. 0. 0. 0. 0. 0.]\n",
      " [1. 1. 0. 0. 0. 0.]\n",
      " [1. 1. 1. 0. 0. 0.]\n",
      " [1. 1. 1. 1. 0. 0.]\n",
      " [1. 1. 1. 1. 1. 0.]\n",
      " [1. 1. 1. 1. 1. 1.]]\n",
      "[[1.         0.         0.         0.         0.         0.        ]\n",
      " [0.83333333 0.83333333 0.         0.         0.         0.        ]\n",
      " [0.66666667 0.66666667 0.66666667 0.         0.         0.        ]\n",
      " [0.5        0.5        0.5        0.5        0.         0.        ]\n",
      " [0.33333333 0.33333333 0.33333333 0.33333333 0.33333333 0.        ]\n",
      " [0.16666667 0.16666667 0.16666667 0.16666667 0.16666667 0.16666667]]\n"
     ]
    }
   ],
   "source": [
    "import numpy as np\n",
    "import matplotlib.pyplot as plt\n",
    "\n",
    "# create an array of the possible dice throws for the attacker\n",
    "# the column number is the highest dice, the row number the lowest\n",
    "# top left is 1-1 and the bottom right is 6-6, this structure will be used for all arrays\n",
    "\n",
    "a_dice = np.zeros((6,6))\n",
    "for i in range(6):\n",
    "    for j in range(i+1):\n",
    "        a_dice[i,j] = 1\n",
    "\n",
    "#calculate the odds to beat the attackers dice with one dice\n",
    "d_one = np.copy(a_dice)\n",
    "\n",
    "for i,j in np.ndindex(d_one.shape):\n",
    "    if d_one[i,j]:\n",
    "        d_one[i,j] = (1/6) * (6-i)\n",
    "        \n",
    "print(a_dice)\n",
    "print(d_one)"
   ]
  },
  {
   "cell_type": "markdown",
   "metadata": {},
   "source": [
    "When the defender throws with 2 dice, there are 3 possible outcomes. The attacker loses 2 armies, the defender loses 2 armies or they each lose one soldier. So two armies always die. We can add the odds of all outcomes together and divide by 2 to get the chance that the defender kills an army, so it is on the same scale as the odds for one dice.\n",
    "\n",
    "It is possible to calculate the odds to beat 2 dice analytically, but using hacker statistics is easier."
   ]
  },
  {
   "cell_type": "code",
   "execution_count": 2,
   "metadata": {},
   "outputs": [],
   "source": [
    "def rand_def():\n",
    "    d_1 = np.random.randint(0,6)\n",
    "    d_2 = np.random.randint(0,6)\n",
    "    if d_1 < d_2:\n",
    "            d_1, d_2 = d_2, d_1\n",
    "    return d_1,d_2\n",
    "\n",
    "def rand_atk():\n",
    "    dice = np.random.randint(0,6,size=3)\n",
    "    dice = np.sort(dice)\n",
    "    return dice[-1],dice[-2]\n",
    "\n",
    "def two_die_odds(a_1,a_2, n_iter=10000):\n",
    "    \"\"\"Calculate the chance for the defender to beat the given dice\"\"\"\n",
    "    \n",
    "    result = np.zeros(n_iter)\n",
    "    \n",
    "    for i in range(n_iter):\n",
    "        d_1, d_2 = rand_def()\n",
    "        result[i] = (d_1 >= a_1) + (d_2 >= a_2)\n",
    "        \n",
    "    return np.mean(result) / 2\n",
    "        "
   ]
  },
  {
   "cell_type": "code",
   "execution_count": 3,
   "metadata": {},
   "outputs": [],
   "source": [
    "# now create a table with the the results for every possibility\n",
    "\n",
    "d_two = np.copy(a_dice)\n",
    "\n",
    "for i,j in np.ndindex(d_two.shape):\n",
    "    if d_two[i,j]:\n",
    "        d_two[i,j] = two_die_odds(i,j)"
   ]
  },
  {
   "cell_type": "code",
   "execution_count": 4,
   "metadata": {},
   "outputs": [
    {
     "name": "stdout",
     "output_type": "stream",
     "text": [
      "[[1.      0.      0.      0.      0.      0.     ]\n",
      " [0.98495 0.83275 0.      0.      0.      0.     ]\n",
      " [0.9484  0.7875  0.66665 0.      0.      0.     ]\n",
      " [0.8763  0.72585 0.59205 0.5021  0.      0.     ]\n",
      " [0.77605 0.63645 0.49945 0.40425 0.3367  0.     ]\n",
      " [0.6519  0.49535 0.37535 0.28315 0.20705 0.166  ]]\n"
     ]
    }
   ],
   "source": [
    "print(d_two)"
   ]
  },
  {
   "cell_type": "markdown",
   "metadata": {},
   "source": [
    "Comparing the results for throwing one dice and throwing two dice, the odds improve in favor of the defender, though for 5-5 and 6-6 it is very close and the hacker statistics do not give a definite result either way. However, throwing with 2 dice also increases the stakes, since two armies can be lost instead of one. So throwing with two dice is not always better. Where exactly is the barrier? Again we can use hacker statistics to find out.\n",
    "\n",
    "There are 21 possible dice combinations for the attacker, so there are 21^2 possible strategies for the defender, since for each attacker throw they can throw with one or with two dice. However, most of these possible strategies do not make sense. Why throw with two dice for 4-4, but with one dice for 4-3? \n",
    "\n",
    "It is possible to reduce the number of possible strategies back to 21, by ranking the attacker's throws by the chance to beat them with two dice and defining the strategy as a position in the list, where the defender throws with 1 dice for every possibility ranked above that position, and with 2 dice for all others.\n",
    "\n",
    "We can use hacker statistics to calculate the ratio of armies destroyed versus lost for each strategy, to find the optimal strategy."
   ]
  },
  {
   "cell_type": "code",
   "execution_count": 5,
   "metadata": {},
   "outputs": [
    {
     "name": "stdout",
     "output_type": "stream",
     "text": [
      "[[0.166   5.      5.     ]\n",
      " [0.20705 5.      4.     ]\n",
      " [0.28315 5.      3.     ]\n",
      " [0.3367  4.      4.     ]\n",
      " [0.37535 5.      2.     ]\n",
      " [0.40425 4.      3.     ]\n",
      " [0.49535 5.      1.     ]\n",
      " [0.49945 4.      2.     ]\n",
      " [0.5021  3.      3.     ]\n",
      " [0.59205 3.      2.     ]\n",
      " [0.63645 4.      1.     ]\n",
      " [0.6519  5.      0.     ]\n",
      " [0.66665 2.      2.     ]\n",
      " [0.72585 3.      1.     ]\n",
      " [0.77605 4.      0.     ]\n",
      " [0.7875  2.      1.     ]\n",
      " [0.83275 1.      1.     ]\n",
      " [0.8763  3.      0.     ]\n",
      " [0.9484  2.      0.     ]\n",
      " [0.98495 1.      0.     ]\n",
      " [1.      0.      0.     ]]\n"
     ]
    }
   ],
   "source": [
    "# Create the ordered array, and add which combination of dice belongs to those odds.\n",
    "# 5-5 is the combination with the lowest odds, these are array indices and represent the dice throw 6-6.\n",
    "\n",
    "odds_vert = np.reshape(d_two,(36,1))\n",
    "odds_vert = np.hstack( (odds_vert, np.zeros( (36,2) )) )\n",
    "\n",
    "for i in range(6):\n",
    "    for j in range(i+1):\n",
    "        odds_vert[i*6 + j,1] = i\n",
    "        odds_vert[i*6 + j,2] = j\n",
    "odds_vert = odds_vert[odds_vert[:,0] != 0]    \n",
    "odds_vert = odds_vert[np.argsort(odds_vert[:,0])]\n",
    "print(odds_vert)"
   ]
  },
  {
   "cell_type": "code",
   "execution_count": 6,
   "metadata": {},
   "outputs": [
    {
     "name": "stdout",
     "output_type": "stream",
     "text": [
      "[[1. 0. 0. 0. 0. 0.]\n",
      " [1. 1. 0. 0. 0. 0.]\n",
      " [1. 1. 1. 0. 0. 0.]\n",
      " [1. 1. 1. 1. 0. 0.]\n",
      " [1. 1. 1. 1. 1. 0.]\n",
      " [1. 1. 1. 1. 1. 1.]]\n"
     ]
    }
   ],
   "source": [
    "strategy = np.copy(a_dice)\n",
    "print(strategy)\n",
    "\n",
    "# This function uses hacker statistics to simulate the outcome of a particular strategy\n",
    "\n",
    "def play_strat(strat, n_iter=20000):\n",
    "    killed = 0\n",
    "    lost = 0\n",
    "    for i in range(n_iter):\n",
    "        a_1,a_2 = rand_atk()\n",
    "        if strat[a_1,a_2] == 1:\n",
    "            killed += d_two[a_1,a_2] * 2\n",
    "            lost += 2 - d_two[a_1,a_2] * 2\n",
    "        else: \n",
    "            killed += d_one[a_1,a_2]\n",
    "            lost += 1 - d_one[a_1,a_2]\n",
    "    return killed/lost\n",
    "        \n",
    "            "
   ]
  },
  {
   "cell_type": "code",
   "execution_count": 7,
   "metadata": {},
   "outputs": [],
   "source": [
    "# loop over different strategies\n",
    "outcomes = np.zeros( (21,3) )\n",
    "current_strat = strategy\n",
    "\n",
    "for i in range(21):\n",
    "    outcomes[i][0] = play_strat(current_strat)\n",
    "    ind1 = int(odds_vert[i,1])\n",
    "    ind2 = int(odds_vert[i,2])\n",
    "    outcomes[i][1] = ind1\n",
    "    outcomes[i][2] = ind2\n",
    "    current_strat[ind1, ind2] = 0"
   ]
  },
  {
   "cell_type": "code",
   "execution_count": 8,
   "metadata": {},
   "outputs": [
    {
     "data": {
      "image/png": "[encoded data removed]",
      "text/plain": [
       "<matplotlib.figure.Figure at 0x25aa466f438>"
      ]
     },
     "metadata": {},
     "output_type": "display_data"
    }
   ],
   "source": [
    "plt.style.use('seaborn')\n",
    "fig, ax = plt.subplots()\n",
    "_ = ax.plot(outcomes[:,0], linestyle='', marker='o')\n",
    "_ = ax.set_xticks(np.arange(0, 21, step=2))\n",
    "_ = ax.set_xlabel('# of combinations for which the defender throws 1 dice')\n",
    "_ = ax.set_ylabel('Armies destroyed / armies lost')"
   ]
  },
  {
   "cell_type": "code",
   "execution_count": 9,
   "metadata": {},
   "outputs": [
    {
     "name": "stdout",
     "output_type": "stream",
     "text": [
      "[[0.9985476 5.        2.       ]]\n"
     ]
    }
   ],
   "source": [
    "print(outcomes[outcomes[:,0] == np.max(outcomes[:,0])])\n",
    "d1,d2 = outcomes[outcomes[:,0] == np.max(outcomes[:,0])][0][1:]\n",
    "d1 = int(d1)\n",
    "d2 = int(d2)\n",
    "border = d_two[d1,d2]"
   ]
  },
  {
   "cell_type": "markdown",
   "metadata": {},
   "source": [
    "Hacker statistics don't give deterministic outcomes, when I ran the code I got 6-3 (indices 5-2) as the boundary to still throw with two dice. Let's make a table that shows the best strategy for easy reference:"
   ]
  },
  {
   "cell_type": "code",
   "execution_count": 10,
   "metadata": {},
   "outputs": [
    {
     "data": {
      "image/png": "[encoded data removed]",
      "text/plain": [
       "<matplotlib.figure.Figure at 0x25aa4717048>"
      ]
     },
     "metadata": {},
     "output_type": "display_data"
    }
   ],
   "source": [
    "throw_2 = d_two >= border\n",
    "table_text = []\n",
    "table_color = []\n",
    "row_labels = []\n",
    "\n",
    "for i in range(6):\n",
    "    \n",
    "    text_row = []\n",
    "    color_row = []\n",
    "    \n",
    "    for j in range(6):\n",
    "    \n",
    "        if throw_2[i,j]:\n",
    "            text_row.append('Two')\n",
    "            color_row.append('Green')\n",
    "        elif i >= j:\n",
    "            text_row.append('One')\n",
    "            color_row.append('Red')\n",
    "        else:\n",
    "            text_row.append('One')\n",
    "            color_row.append('Black')\n",
    "            \n",
    "    row_labels.append(str(i+1))\n",
    "    table_text.append(text_row)\n",
    "    table_color.append(color_row)\n",
    "\n",
    "fig2, ax2 = plt.subplots(frameon=False)\n",
    "_ = ax2.axis('off')\n",
    "_ = ax2.table(cellText=table_text, cellColours=table_color,loc='top', colLabels=row_labels, rowLabels=row_labels)\n",
    "            "
   ]
  }
 ],
 "metadata": {
  "kernelspec": {
   "display_name": "Python 3",
   "language": "python",
   "name": "python3"
  },
  "language_info": {
   "codemirror_mode": {
    "name": "ipython",
    "version": 3
   },
   "file_extension": ".py",
   "mimetype": "text/x-python",
   "name": "python",
   "nbconvert_exporter": "python",
   "pygments_lexer": "ipython3",
   "version": "3.6.4"
  }
 },
 "nbformat": 4,
 "nbformat_minor": 2
}
